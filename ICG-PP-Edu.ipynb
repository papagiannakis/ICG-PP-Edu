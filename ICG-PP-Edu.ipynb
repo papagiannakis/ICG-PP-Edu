{
 "cells": [
  {
   "cell_type": "markdown",
   "metadata": {},
   "source": [
    "# Interactive Computer Graphics - Principles & Practice Educational\n",
    "\n",
    "### @Copyright Prof. George Papagiannakis \n",
    "\n",
    "#### 2012-today, University of Crete & ICS-FORTH \n",
    "\n",
    "##### https://papagiannakis.github.io/teaching/\n",
    "\n",
    "---"
   ]
  },
  {
   "cell_type": "markdown",
   "metadata": {},
   "source": [
    "## Course description\n",
    "The aim of this advanced computer graphics course is to explore the algorithms and methods used for modern interactive graphics: when computerized images need to be displayed at many frames per second utilizing hardware acceleration. The focus is to introduce students to state-of-the-art graphics technology (GPU programming) and latest techniques for modeling, rendering and animation that enable interactive applications like game engines and real-time 3D simulations.\n",
    "\n",
    "> Modern Interactive Computer Graphics is a dynamic field of study dedicated to the generation, manipulation, and representation of visual images using computers and mathematical models. It encompasses a wide range of topics such as real-time rendering, simulation of natural phenomena, geometric modeling, digital animation, as well as the use of deep learning and neural rendering / modeling. Leveraging advances in hardware (e.g., GPU), computational techniques, and neural networks, research in this domain aims to create visually compelling, immersive experiences, simulate the physical world with high fidelity, and develop intuitive interfaces. As a cornerstone of the digital media industry, computer graphics continue to push the boundaries of visual storytelling, virtual and extended reality, spatial computing and interactive design.\n",
    "\n",
    "*This repository includes all Courseware notes, lectures, base code, etc.*"
   ]
  },
  {
   "cell_type": "markdown",
   "metadata": {},
   "source": [
    "## Course Objectives\n",
    "1.  Understand the principles of 3D graphics and the graphics pipeline\n",
    "1. Understand the principles of 3D modeling and animation\n",
    "1. Understand the principles of 3D rendering and shading\n",
    "1. Understand the principles of 3D interaction and user interfaces\n",
    "1. Understand the principles of 3D game engines and real-time simulations\n",
    "1. Understand the principles of 3D virtual and augmented reality\n",
    "1. Get exposed to certain latest R&D topics in interactive computer graphics as well as generative AI neural graphics"
   ]
  },
  {
   "cell_type": "markdown",
   "metadata": {},
   "source": [
    "## Course Values\n",
    "- Be kind. \n",
    "- Be humane. \n",
    "- Meet someone new. \n",
    "- Explore. \n",
    "- Experiment. \n",
    "- Learn by doing. \n",
    "- Adapt to new contexts."
   ]
  },
  {
   "cell_type": "markdown",
   "metadata": {},
   "source": [
    "## Course Requirements\n",
    "- Attend lectures and participate in class discussions\n",
    "- Complete all assignments and projects\n",
    "- Take all exams\n",
    "- Read and understand the course material\n",
    "- Ask questions and seek help when needed"
   ]
  },
  {
   "cell_type": "markdown",
   "metadata": {},
   "source": [
    "## General Coding Information/Requirements\n",
    "\n",
    "Hardware: Windows10, Windows11, Linux, MacOS\n",
    "\n",
    "Software:\n",
    "\n",
    "* CMake Minimum version required 3.5\n",
    "Download the latest one for your platform from : <https://cmake.org/download/>\n",
    "\n",
    "* Visual Studio Code\n",
    "Download Visual Studio (VS) Code from : <https://code.visualstudio.com>"
   ]
  },
  {
   "cell_type": "markdown",
   "metadata": {},
   "source": [
    "## Course base code\n",
    "\n",
    "> We will be using the [Elements](https://github.com/papagiannakis/Elements) project as a base code for the course. This is a Python Entity Copmponent System in a Scenegraph OpenGL4 framework that is cross-platform and can be used as a starting point for the course assignments."
   ]
  },
  {
   "cell_type": "markdown",
   "metadata": {},
   "source": [
    "## Sample course schedule and timeline\n",
    "\n",
    "\n",
    "| Lecture                               | Week          |  Notes                                            | Bibliography  |               \n",
    "| -----------                          | -----       | -------                                          | -------     |                      \n",
    "| HY553- Intro to interactive CG        | Week1         | *Course Start*                                    |       |                         \n",
    "| HY553-Intro to Ray Tracing             | Week1         |                                                  | Whitted80, Appel68      |       \n",
    "| HY553-Ray Tracing in one weekend       | Week2         |                                                  | Shirley18, Hofmann90    |      \n",
    "| HY553-Hardware lighting and Shading    | Week2         | *Lab0: setup base code                          | Shreiner13, Angel11    |             \n",
    "| HY553-GI for real-time I               | Week3         |                                                   | Kajiya86, Sloan02       |      \n",
    "| HY553-GI for real-time II              | Week3         | *Assignment1: Ray-tracing on GPU*                 | Kautz04, Egges06    |            \n",
    "| HY553-IBL&HDRI                        | Week4         |                                                    | Kautz04        |                \n",
    "| HYH553-SceneManagement&Hierarchies    | Week4         | *Lab1*                                             | Clark76        |                \n",
    "| HY553-Transformations & Quaternions   | Week5         |                                                    | Kavan08, Papagiannakis13|\n",
    "| HY553-Advanced GLSL            | Week5         | *Assignment1: deadline*                            | Papagiannakis2008|\n",
    "| HY553-Animation&Skinning 1           | Week6         | *Oral exams Assignment1*                            | Aristidou17|\n",
    "| HY553-Animation&Skinning 2           | Week6         | *Assignment2: 3D Modelling*                        | Papaefthymiou16|\n",
    "| HY553-CharacterBodyAnimation          | Week7         |                                                      | Jung11|\n",
    "| HY553-CharacterFaceAnimation          | Week7         | *Lab2 on same day*                                    | Cui23|\n",
    "| Unity - Intro & Scripting 1           | Week8         |                                                      | |\n",
    "| Unity - Intro & Scripting 2           | Week8         |  *Assignment2: deadline*                            | |\n",
    "| Geometric-Algebra for CG              | Week9         |  *Oral exams Assignment2*                            | Hitzer22, Papagiannakis13, Kamarianakis22,23 |\n",
    "| in-VR authoring systems               | Week9         |  *Assignment3: Unity Scripting*                       | Zikas20 |\n",
    "| Networked, Collaborative CG platforms | Week10        |                                                        | Bansal22 |\n",
    "| Gen-AI for textTo3D object creation   | Week10        |  *Lab3*                                                | Siddiqui23  |\n",
    "| Neural CG for scene authoring         | Week11        |                                                       | Tewari20, Xie22 |\n",
    "| Neural Precomputed Radiance Transfer  | Week11        |  *Assignment3: deadline* + *Project START*            | Yue19, Sloan02 |\n",
    "| CG in Games                           | Week12        |  *Oral exams Assignment3*                            | Fatahalian08 |\n",
    "| XR & metaverse I                       | Week12        |                                                      | Zikas23, Papagianankis05 |\n",
    "| XR & metaverse II                      | Week13        |                                                      | Ponder03, Cui23 |\n",
    "| Course Revision                       | Week13        | Course Lectures End                                     | *all course notes* |\n",
    "| Project submission                  | end of June Exam period                          |                        | *submit your report and src code* |"
   ]
  },
  {
   "cell_type": "markdown",
   "metadata": {},
   "source": [
    "## Resources"
   ]
  },
  {
   "cell_type": "markdown",
   "metadata": {},
   "source": [
    "### From CPU-based path-tracing to XR and interactive CG: from zero to hero!\n",
    "\n",
    "- Bibliography\n",
    "    - Recommended Bibliography:\n",
    "        - Hughes, J. F. et al. Computer Graphics: Principles and Practice. (2013).\n",
    "            - https://cgisutic.files.wordpress.com/2016/07/computer_graphics_principles_and_practice.pdf\n",
    "        - Ray tracing in one weekend, Peter Shirley, 2023\n",
    "            - https://raytracing.github.io/books/RayTracingInOneWeekend.html\n",
    "        - Introduction to Computer Graphics, Version 1.4, August 2023,   David J. Eck\n",
    "            - https://math.hws.edu/eck/cs424/downloads/graphicsbook-linked.pdf#page54\n",
    "        - Interactive Computer Graphics: A Top-Down Approach With Shader-Based Opengl 6th Edition, E. Angel, 2011\n",
    "            - https://theswissbay.ch/pdf/Books/Computer%20science/Interactive%20computer%20graphics_a%20top-down%20approach%20with%20shader-based%20OpenGL%20%286th%20edition%29%20-%20Edward%20Angel%2C%20Dave%20Shreiner.pdf\n",
    "        - OpenGL programming guide, 8th edition\n",
    "            - https://www.cs.utexas.edu/users/fussell/courses/cs354/handouts/Addison.Wesley.OpenGL.Programming.Guide.8th.Edition.Mar.2013.ISBN.0321773039.pdf#page442\n",
    "            - https://github.com/openglredbook/examples\n",
    "        - Opengl shading language, second edition, R. Rost\n",
    "            - https://wiki.labomedia.org/images/1/10/Orange_Book_-_OpenGL_Shading_Language_2nd_Edition.pdf\n",
    "    - Resources:\n",
    "        - Python & tools\n",
    "            - https://chenweixiang.github.io/2017/03/09/python.html\n",
    "            - https://chenweixiang.github.io/2023/09/19/homebrew.html\n",
    "            -  Lutz, M. Learning Python 5E. 1–1594 (2013).\n",
    "                - https://github.com/shahadot786/Python-Books/blob/master/Learning%20Python%2C%205th%20Edition.pdf\n",
    "            - Jupyter remote frame buffer\n",
    "                - https://github.com/vispy/jupyter_rfb\n",
    "        - Ray Tracing (RT) in cpp\n",
    "            - https://raytracing.github.io/books/RayTracingInOneWeekend.html\n",
    "        - RT pixar in a box\n",
    "            - https://www.khanacademy.org/computing/pixar/virtual-cameras/virtual-cameras-1/v/optics1-final\n",
    "            - https://www.khanacademy.org/computing/pixar/virtual-cameras/virtual-cameras-1/v/virtual-camera-3\n",
    "            - https://www.khanacademy.org/computing/pixar/rendering/rendering1/v/rendering-1\n",
    "            - https://www.khanacademy.org/computing/pixar/rendering/rendering-2/v/rendering-9 (ray-triangle intersection)\n",
    "            - https://www.khanacademy.org/computing/pixar/rendering/rendering1/v/rendering-3\n",
    "            - https://www.khanacademy.org/computing/pixar/modeling-character/subdivision-averages/v/charactermodeling5\n",
    "        - Real-time RT\n",
    "            - https://www.realtimerendering.com/raytracing.html\n",
    "            - https://www.realtimerendering.com/erich/RayTracingInOctober2022.pdf\n",
    "        - Blender\n",
    "            - https://math.hws.edu/graphicsbook/a2/index.html\n",
    "        - Vscode videos\n",
    "            - https://www.youtube.com/@code/videos\n",
    "            \n",
    "## Self-paced, autonomous learning\n",
    "- 1. Python and scientific computing\n",
    "        - Elements project pyEEL/notebooks/SciCom (scientific computing)\n",
    "            - https://github.com/papagiannakis/Elements/blob/develop/Elements/pyEEL/notebooks/SciCom \n",
    "- 2. Blender Content Creation tool\n",
    "        - Blender 4.0 online manual: https://docs.blender.org/manual/en/latest/\n",
    "        - Official Blender tutorial videos: Interface Overview - Blender 2.80 Fundamentals \n",
    "            - https://www.youtube.com/playlist?list=PLa1F2ddGya_-UvuAqHAksYnB0qL9yWDO6\n",
    "- 3. Unity Engine\n",
    "        - Official Unity Learning proposed pathways:\n",
    "            - https://learn.unity.com/course/create-with-code/\n",
    "            - https://learn.unity.com/pathway/unity-essentials\n",
    "            - https://learn.unity.com/pathway/junior-programmer\n",
    "            - https://learn.unity.com/pathway/vr-development"
   ]
  }
 ],
 "metadata": {
  "kernelspec": {
   "display_name": "Python 3",
   "language": "python",
   "name": "python3"
  },
  "language_info": {
   "name": "python",
   "version": "3.8.18"
  }
 },
 "nbformat": 4,
 "nbformat_minor": 2
}
